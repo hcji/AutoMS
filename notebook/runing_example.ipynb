{
 "cells": [
  {
   "cell_type": "markdown",
   "id": "c1e7f151",
   "metadata": {},
   "source": [
    "## Usage"
   ]
  },
  {
   "cell_type": "markdown",
   "id": "cd960c0d",
   "metadata": {},
   "source": [
    "### Run with HPIC"
   ]
  },
  {
   "cell_type": "code",
   "execution_count": 1,
   "id": "ff110f4c",
   "metadata": {},
   "outputs": [
    {
     "name": "stderr",
     "output_type": "stream",
     "text": [
      "D:\\AutoMS\\AutoMS\\mspd.py:100: FutureWarning: Unlike other reduction functions (e.g. `skew`, `kurtosis`), the default behavior of `mode` typically preserves the axis it acts along. In SciPy 1.11.0, this behavior will change: the default value of `keepdims` will become False, the `axis` over which the statistic is taken will be eliminated, and the value None will no longer be accepted. Set `keepdims` to True or False to avoid this warning.\n",
      "  col = int(mode(ridge[1, inds])[0][0])\n",
      "100%|████████████████████████████████████████████████████████████████████████████| 3474/3474 [00:00<00:00, 7739.58it/s]\n"
     ]
    },
    {
     "name": "stdout",
     "output_type": "stream",
     "text": [
      "109/109 [==============================] - 4s 2ms/step\n"
     ]
    }
   ],
   "source": [
    "from AutoMS.automs import AutoMS\n",
    "\n",
    "file = 'data/600mix_pos.mzML'\n",
    "peaks = AutoMS(file, min_intensity = 5000)"
   ]
  },
  {
   "cell_type": "code",
   "execution_count": 2,
   "id": "807a45f1",
   "metadata": {},
   "outputs": [
    {
     "name": "stdout",
     "output_type": "stream",
     "text": [
      "               mz       rt     intensity      rt1      rt2        signal  \\\n",
      "0       31.989356  178.668   5124.255371  160.389  182.347  13232.794228   \n",
      "1       31.989659  190.547   5112.240234  182.347  195.646    871.572786   \n",
      "2       31.989353  214.975   5123.062500  195.646  232.684   8465.773872   \n",
      "3       31.989625  256.452   5066.318359  237.563  262.841  16419.769302   \n",
      "4       31.989357  288.699   5099.605957  262.841  305.728   9168.075310   \n",
      "...           ...      ...           ...      ...      ...           ...   \n",
      "3469  1190.791541   35.579   6477.109375   21.680   40.308   4767.012602   \n",
      "3470  1194.813825   29.239  73679.781250   21.680   45.338  77300.045638   \n",
      "3471  1195.751979   33.949  14959.061523   21.680   46.168  18361.191111   \n",
      "3472  1195.816711   29.239  52937.125000   22.420   33.949  56004.235261   \n",
      "3473  1196.754453   33.169  10609.504883   21.680   41.988  13024.295795   \n",
      "\n",
      "             snr   ind  shape  \\\n",
      "0      31.400934  23.0   91.0   \n",
      "1       3.852200  38.0   91.0   \n",
      "2      57.553246  68.0   91.0   \n",
      "3      76.521998  23.0   86.0   \n",
      "4      50.794698  63.0   86.0   \n",
      "...          ...   ...    ...   \n",
      "3469    3.998630  14.0   20.0   \n",
      "3470  113.502028   9.0   29.0   \n",
      "3471   38.796428  14.0   30.0   \n",
      "3472    2.072818   5.0   10.0   \n",
      "3473   23.125562  11.0   21.0   \n",
      "\n",
      "                                              pic_label     score  \n",
      "0     31.989355738681876_178.66799999999998_5124.255...  0.000000  \n",
      "1     31.989355738681876_178.66799999999998_5124.255...  0.000000  \n",
      "2     31.989355738681876_178.66799999999998_5124.255...  0.000000  \n",
      "3     31.989356883643897_288.699_5099.60595703125_23...  0.000000  \n",
      "4     31.989356883643897_288.699_5099.60595703125_23...  0.000000  \n",
      "...                                                 ...       ...  \n",
      "3469  1190.7915412255602_35.57899999998_6477.109375_...  0.000000  \n",
      "3470  1194.8138253822276_29.239000000020003_73679.78...  3.348291  \n",
      "3471  1195.751979119179_33.94900000002_14959.0615234...  0.000000  \n",
      "3472  1195.8167106449905_29.239000000020003_52937.12...  3.314349  \n",
      "3473  1196.7544530251982_33.16900000002_10609.504882...  0.000000  \n",
      "\n",
      "[3474 rows x 11 columns]\n"
     ]
    }
   ],
   "source": [
    "print(peaks)"
   ]
  },
  {
   "cell_type": "markdown",
   "id": "9989e8c0",
   "metadata": {},
   "source": [
    "### Run with external tools (XCMS/MZMine)"
   ]
  },
  {
   "cell_type": "code",
   "execution_count": 3,
   "id": "d4562694",
   "metadata": {},
   "outputs": [
    {
     "name": "stderr",
     "output_type": "stream",
     "text": [
      "Unable to determine R library path: Command '('C:\\\\Users\\\\DELL\\\\anaconda3\\\\envs\\\\automs\\\\lib\\\\R\\\\bin\\\\Rscript', '-e', 'cat(Sys.getenv(\"LD_LIBRARY_PATH\"))')' returned non-zero exit status 1.\n",
      "Exception ignored from cffi callback <function _consolewrite_ex at 0x0000013132C389D0>:\n",
      "Traceback (most recent call last):\n",
      "  File \"C:\\Users\\DELL\\anaconda3\\envs\\automs\\lib\\site-packages\\rpy2\\rinterface_lib\\callbacks.py\", line 133, in _consolewrite_ex\n",
      "    s = conversion._cchar_to_str_with_maxlen(buf, n, _CCHAR_ENCODING)\n",
      "  File \"C:\\Users\\DELL\\anaconda3\\envs\\automs\\lib\\site-packages\\rpy2\\rinterface_lib\\conversion.py\", line 138, in _cchar_to_str_with_maxlen\n",
      "    s = ffi.string(c, maxlen).decode(encoding)\n",
      "UnicodeDecodeError: 'utf-8' codec can't decode byte 0xd4 in position 0: invalid continuation byte\n",
      "Exception ignored from cffi callback <function _consolewrite_ex at 0x0000013132C389D0>:\n",
      "Traceback (most recent call last):\n",
      "  File \"C:\\Users\\DELL\\anaconda3\\envs\\automs\\lib\\site-packages\\rpy2\\rinterface_lib\\callbacks.py\", line 133, in _consolewrite_ex\n",
      "    s = conversion._cchar_to_str_with_maxlen(buf, n, _CCHAR_ENCODING)\n",
      "  File \"C:\\Users\\DELL\\anaconda3\\envs\\automs\\lib\\site-packages\\rpy2\\rinterface_lib\\conversion.py\", line 138, in _cchar_to_str_with_maxlen\n",
      "    s = ffi.string(c, maxlen).decode(encoding)\n",
      "UnicodeDecodeError: 'utf-8' codec can't decode byte 0xd4 in position 0: invalid continuation byte\n",
      "Exception ignored from cffi callback <function _consolewrite_ex at 0x0000013132C389D0>:\n",
      "Traceback (most recent call last):\n",
      "  File \"C:\\Users\\DELL\\anaconda3\\envs\\automs\\lib\\site-packages\\rpy2\\rinterface_lib\\callbacks.py\", line 133, in _consolewrite_ex\n",
      "    s = conversion._cchar_to_str_with_maxlen(buf, n, _CCHAR_ENCODING)\n",
      "  File \"C:\\Users\\DELL\\anaconda3\\envs\\automs\\lib\\site-packages\\rpy2\\rinterface_lib\\conversion.py\", line 138, in _cchar_to_str_with_maxlen\n",
      "    s = ffi.string(c, maxlen).decode(encoding)\n",
      "UnicodeDecodeError: 'utf-8' codec can't decode byte 0xd4 in position 0: invalid continuation byte\n",
      "Exception ignored from cffi callback <function _consolewrite_ex at 0x0000013132C389D0>:\n",
      "Traceback (most recent call last):\n",
      "  File \"C:\\Users\\DELL\\anaconda3\\envs\\automs\\lib\\site-packages\\rpy2\\rinterface_lib\\callbacks.py\", line 133, in _consolewrite_ex\n",
      "    s = conversion._cchar_to_str_with_maxlen(buf, n, _CCHAR_ENCODING)\n",
      "  File \"C:\\Users\\DELL\\anaconda3\\envs\\automs\\lib\\site-packages\\rpy2\\rinterface_lib\\conversion.py\", line 138, in _cchar_to_str_with_maxlen\n",
      "    s = ffi.string(c, maxlen).decode(encoding)\n",
      "UnicodeDecodeError: 'utf-8' codec can't decode byte 0xd4 in position 1: invalid continuation byte\n",
      "R[write to console]: The following objects are masked from 'package:stats':\n",
      "\n",
      "    IQR, mad, sd, var, xtabs\n",
      "\n",
      "\n",
      "R[write to console]: The following objects are masked from 'package:base':\n",
      "\n",
      "    anyDuplicated, append, as.data.frame, basename, cbind, colnames,\n",
      "    dirname, do.call, duplicated, eval, evalq, Filter, Find, get, grep,\n",
      "    grepl, intersect, is.unsorted, lapply, Map, mapply, match, mget,\n",
      "    order, paste, pmax, pmax.int, pmin, pmin.int, Position, rank,\n",
      "    rbind, Reduce, rownames, sapply, setdiff, sort, table, tapply,\n",
      "    union, unique, unsplit, which.max, which.min\n",
      "\n",
      "\n",
      "Exception ignored from cffi callback <function _consolewrite_ex at 0x0000013132C389D0>:\n",
      "Traceback (most recent call last):\n",
      "  File \"C:\\Users\\DELL\\anaconda3\\envs\\automs\\lib\\site-packages\\rpy2\\rinterface_lib\\callbacks.py\", line 133, in _consolewrite_ex\n",
      "    s = conversion._cchar_to_str_with_maxlen(buf, n, _CCHAR_ENCODING)\n",
      "  File \"C:\\Users\\DELL\\anaconda3\\envs\\automs\\lib\\site-packages\\rpy2\\rinterface_lib\\conversion.py\", line 138, in _cchar_to_str_with_maxlen\n",
      "    s = ffi.string(c, maxlen).decode(encoding)\n",
      "UnicodeDecodeError: 'utf-8' codec can't decode byte 0xd4 in position 0: invalid continuation byte\n",
      "R[write to console]: Welcome to Bioconductor\n",
      "\n",
      "    Vignettes contain introductory material; view with\n",
      "    'browseVignettes()'. To cite Bioconductor, see\n",
      "    'citation(\"Biobase\")', and for packages 'citation(\"pkgname\")'.\n",
      "\n",
      "\n",
      "Exception ignored from cffi callback <function _consolewrite_ex at 0x0000013132C389D0>:\n",
      "Traceback (most recent call last):\n",
      "  File \"C:\\Users\\DELL\\anaconda3\\envs\\automs\\lib\\site-packages\\rpy2\\rinterface_lib\\callbacks.py\", line 133, in _consolewrite_ex\n",
      "    s = conversion._cchar_to_str_with_maxlen(buf, n, _CCHAR_ENCODING)\n",
      "  File \"C:\\Users\\DELL\\anaconda3\\envs\\automs\\lib\\site-packages\\rpy2\\rinterface_lib\\conversion.py\", line 138, in _cchar_to_str_with_maxlen\n",
      "    s = ffi.string(c, maxlen).decode(encoding)\n",
      "UnicodeDecodeError: 'utf-8' codec can't decode byte 0xd4 in position 0: invalid continuation byte\n",
      "Exception ignored from cffi callback <function _consolewrite_ex at 0x0000013132C389D0>:\n",
      "Traceback (most recent call last):\n",
      "  File \"C:\\Users\\DELL\\anaconda3\\envs\\automs\\lib\\site-packages\\rpy2\\rinterface_lib\\callbacks.py\", line 133, in _consolewrite_ex\n",
      "    s = conversion._cchar_to_str_with_maxlen(buf, n, _CCHAR_ENCODING)\n",
      "  File \"C:\\Users\\DELL\\anaconda3\\envs\\automs\\lib\\site-packages\\rpy2\\rinterface_lib\\conversion.py\", line 138, in _cchar_to_str_with_maxlen\n",
      "    s = ffi.string(c, maxlen).decode(encoding)\n",
      "UnicodeDecodeError: 'utf-8' codec can't decode byte 0xd4 in position 0: invalid continuation byte\n",
      "Exception ignored from cffi callback <function _consolewrite_ex at 0x0000013132C389D0>:\n",
      "Traceback (most recent call last):\n",
      "  File \"C:\\Users\\DELL\\anaconda3\\envs\\automs\\lib\\site-packages\\rpy2\\rinterface_lib\\callbacks.py\", line 133, in _consolewrite_ex\n",
      "    s = conversion._cchar_to_str_with_maxlen(buf, n, _CCHAR_ENCODING)\n",
      "  File \"C:\\Users\\DELL\\anaconda3\\envs\\automs\\lib\\site-packages\\rpy2\\rinterface_lib\\conversion.py\", line 138, in _cchar_to_str_with_maxlen\n",
      "    s = ffi.string(c, maxlen).decode(encoding)\n",
      "UnicodeDecodeError: 'utf-8' codec can't decode byte 0xd4 in position 0: invalid continuation byte\n",
      "Exception ignored from cffi callback <function _consolewrite_ex at 0x0000013132C389D0>:\n",
      "Traceback (most recent call last):\n",
      "  File \"C:\\Users\\DELL\\anaconda3\\envs\\automs\\lib\\site-packages\\rpy2\\rinterface_lib\\callbacks.py\", line 133, in _consolewrite_ex\n",
      "    s = conversion._cchar_to_str_with_maxlen(buf, n, _CCHAR_ENCODING)\n",
      "  File \"C:\\Users\\DELL\\anaconda3\\envs\\automs\\lib\\site-packages\\rpy2\\rinterface_lib\\conversion.py\", line 138, in _cchar_to_str_with_maxlen\n",
      "    s = ffi.string(c, maxlen).decode(encoding)\n",
      "UnicodeDecodeError: 'utf-8' codec can't decode byte 0xd4 in position 0: invalid continuation byte\n",
      "Exception ignored from cffi callback <function _consolewrite_ex at 0x0000013132C389D0>:\n",
      "Traceback (most recent call last):\n",
      "  File \"C:\\Users\\DELL\\anaconda3\\envs\\automs\\lib\\site-packages\\rpy2\\rinterface_lib\\callbacks.py\", line 133, in _consolewrite_ex\n",
      "    s = conversion._cchar_to_str_with_maxlen(buf, n, _CCHAR_ENCODING)\n",
      "  File \"C:\\Users\\DELL\\anaconda3\\envs\\automs\\lib\\site-packages\\rpy2\\rinterface_lib\\conversion.py\", line 138, in _cchar_to_str_with_maxlen\n",
      "    s = ffi.string(c, maxlen).decode(encoding)\n",
      "UnicodeDecodeError: 'utf-8' codec can't decode byte 0xd4 in position 1: invalid continuation byte\n",
      "R[write to console]: The following objects are masked from 'package:base':\n",
      "\n",
      "    expand.grid, I, unname\n",
      "\n",
      "\n",
      "Exception ignored from cffi callback <function _consolewrite_ex at 0x0000013132C389D0>:\n",
      "Traceback (most recent call last):\n",
      "  File \"C:\\Users\\DELL\\anaconda3\\envs\\automs\\lib\\site-packages\\rpy2\\rinterface_lib\\callbacks.py\", line 133, in _consolewrite_ex\n",
      "    s = conversion._cchar_to_str_with_maxlen(buf, n, _CCHAR_ENCODING)\n",
      "  File \"C:\\Users\\DELL\\anaconda3\\envs\\automs\\lib\\site-packages\\rpy2\\rinterface_lib\\conversion.py\", line 138, in _cchar_to_str_with_maxlen\n",
      "    s = ffi.string(c, maxlen).decode(encoding)\n",
      "UnicodeDecodeError: 'utf-8' codec can't decode byte 0xd4 in position 0: invalid continuation byte\n",
      "Exception ignored from cffi callback <function _consolewrite_ex at 0x0000013132C389D0>:\n",
      "Traceback (most recent call last):\n",
      "  File \"C:\\Users\\DELL\\anaconda3\\envs\\automs\\lib\\site-packages\\rpy2\\rinterface_lib\\callbacks.py\", line 133, in _consolewrite_ex\n",
      "    s = conversion._cchar_to_str_with_maxlen(buf, n, _CCHAR_ENCODING)\n",
      "  File \"C:\\Users\\DELL\\anaconda3\\envs\\automs\\lib\\site-packages\\rpy2\\rinterface_lib\\conversion.py\", line 138, in _cchar_to_str_with_maxlen\n",
      "    s = ffi.string(c, maxlen).decode(encoding)\n",
      "UnicodeDecodeError: 'utf-8' codec can't decode byte 0xd4 in position 1: invalid continuation byte\n"
     ]
    },
    {
     "name": "stderr",
     "output_type": "stream",
     "text": [
      "R[write to console]: The following object is masked from 'package:stats':\n",
      "\n",
      "    smooth\n",
      "\n",
      "\n",
      "R[write to console]: \n",
      "This is MSnbase version 2.20.1 \n",
      "  Visit https://lgatto.github.io/MSnbase/ to get started.\n",
      "\n",
      "\n",
      "Exception ignored from cffi callback <function _consolewrite_ex at 0x0000013132C389D0>:\n",
      "Traceback (most recent call last):\n",
      "  File \"C:\\Users\\DELL\\anaconda3\\envs\\automs\\lib\\site-packages\\rpy2\\rinterface_lib\\callbacks.py\", line 133, in _consolewrite_ex\n",
      "    s = conversion._cchar_to_str_with_maxlen(buf, n, _CCHAR_ENCODING)\n",
      "  File \"C:\\Users\\DELL\\anaconda3\\envs\\automs\\lib\\site-packages\\rpy2\\rinterface_lib\\conversion.py\", line 138, in _cchar_to_str_with_maxlen\n",
      "    s = ffi.string(c, maxlen).decode(encoding)\n",
      "UnicodeDecodeError: 'utf-8' codec can't decode byte 0xd4 in position 1: invalid continuation byte\n",
      "R[write to console]: The following object is masked from 'package:base':\n",
      "\n",
      "    trimws\n",
      "\n",
      "\n",
      "R[write to console]: \n",
      "This is xcms version 3.16.1 \n",
      "\n",
      "\n",
      "Exception ignored from cffi callback <function _consolewrite_ex at 0x0000013132C389D0>:\n",
      "Traceback (most recent call last):\n",
      "  File \"C:\\Users\\DELL\\anaconda3\\envs\\automs\\lib\\site-packages\\rpy2\\rinterface_lib\\callbacks.py\", line 133, in _consolewrite_ex\n",
      "    s = conversion._cchar_to_str_with_maxlen(buf, n, _CCHAR_ENCODING)\n",
      "  File \"C:\\Users\\DELL\\anaconda3\\envs\\automs\\lib\\site-packages\\rpy2\\rinterface_lib\\conversion.py\", line 138, in _cchar_to_str_with_maxlen\n",
      "    s = ffi.string(c, maxlen).decode(encoding)\n",
      "UnicodeDecodeError: 'utf-8' codec can't decode byte 0xd4 in position 1: invalid continuation byte\n",
      "R[write to console]: The following object is masked from 'package:stats':\n",
      "\n",
      "    sigma\n",
      "\n",
      "\n",
      "100%|██████████████████████████████████████████████████████████████████████████████| 502/502 [00:00<00:00, 9321.13it/s]\n"
     ]
    },
    {
     "name": "stdout",
     "output_type": "stream",
     "text": [
      "16/16 [==============================] - 0s 7ms/step\n"
     ]
    }
   ],
   "source": [
    "# need install rpy2: pip install rpy2,\n",
    "# and set R_HOME first (R version >= 3.4.1 and <= 4.1.1).\n",
    "# there will be some unimportant warnings and information returned by R.\n",
    "\n",
    "import pandas as pd\n",
    "from AutoMS.automs_external import AutoMS_External\n",
    "    \n",
    "file = 'data/600mix_pos.mzML'\n",
    "    \n",
    "## Need reset the column name of xcms/mzmine output refer to demo file.\n",
    "peaks = pd.read_csv('data/xcms_mzmine_input_demo.csv')\n",
    "peaks = AutoMS_External(file, peaks)"
   ]
  },
  {
   "cell_type": "code",
   "execution_count": 4,
   "id": "cf506fec",
   "metadata": {},
   "outputs": [
    {
     "name": "stdout",
     "output_type": "stream",
     "text": [
      "              mz       rt      intensity      rt1      rt2  \\\n",
      "0      63.997580   56.607   56672.738281   39.488   56.607   \n",
      "1      63.997634   57.357   56821.492188   56.607   74.666   \n",
      "2      74.071196  253.172   70854.343750  249.883  270.851   \n",
      "3      79.021296   57.357  508287.968750   39.488   74.666   \n",
      "4      87.043804  213.505   60113.511719  194.806  231.044   \n",
      "..           ...      ...            ...      ...      ...   \n",
      "497  1065.725157   32.389   51899.371094   28.289   43.668   \n",
      "498  1165.742838   31.559  105007.984375   24.819   44.498   \n",
      "499  1166.745987   31.559   71321.578125   27.400   43.668   \n",
      "500  1194.813825   29.239   73679.781250   21.680   45.338   \n",
      "501  1195.816711   29.239   52937.125000   22.420   33.949   \n",
      "\n",
      "                                             pic_label     score  \n",
      "0             56.607_63.997579752530605_56672.73828125  0.607262  \n",
      "1               57.357_63.99763388147294_56821.4921875  1.149317  \n",
      "2         253.17199999998_74.0711959505198_70854.34375  3.432954  \n",
      "3                  57.357_79.021296482676_508287.96875  2.771444  \n",
      "4     213.50500000002_87.04380436026138_60113.51171875  2.607042  \n",
      "..                                                 ...       ...  \n",
      "497   32.38900000002_1065.7251574261643_51899.37109375  0.000000  \n",
      "498    31.55899999998_1165.7428379861517_105007.984375  0.000000  \n",
      "499      31.55899999998_1166.745987349275_71321.578125  0.000000  \n",
      "500  29.239000000020003_1194.8138253822276_73679.78125  3.340709  \n",
      "501    29.239000000020003_1195.8167106449905_52937.125  2.545887  \n",
      "\n",
      "[502 rows x 7 columns]\n"
     ]
    }
   ],
   "source": [
    "print(peaks)"
   ]
  }
 ],
 "metadata": {
  "kernelspec": {
   "display_name": "Python 3 (ipykernel)",
   "language": "python",
   "name": "python3"
  },
  "language_info": {
   "codemirror_mode": {
    "name": "ipython",
    "version": 3
   },
   "file_extension": ".py",
   "mimetype": "text/x-python",
   "name": "python",
   "nbconvert_exporter": "python",
   "pygments_lexer": "ipython3",
   "version": "3.8.13"
  }
 },
 "nbformat": 4,
 "nbformat_minor": 5
}
