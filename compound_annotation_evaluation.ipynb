{
 "cells": [
  {
   "cell_type": "markdown",
   "id": "345a78e2",
   "metadata": {},
   "source": [
    "## Compound annotation evaluation"
   ]
  },
  {
   "cell_type": "markdown",
   "id": "832177e8",
   "metadata": {},
   "source": [
    "### Import package and load data"
   ]
  },
  {
   "cell_type": "code",
   "execution_count": 1,
   "id": "60759cf5",
   "metadata": {},
   "outputs": [],
   "source": [
    "import pandas as pd\n",
    "\n",
    "compounds = pd.read_csv('data/compound_list.csv', encoding = 'gbk')"
   ]
  },
  {
   "cell_type": "markdown",
   "id": "82aa0a78",
   "metadata": {},
   "source": [
    "### Result of various tools"
   ]
  },
  {
   "cell_type": "code",
   "execution_count": 2,
   "id": "45379497",
   "metadata": {},
   "outputs": [
    {
     "name": "stderr",
     "output_type": "stream",
     "text": [
      "D:\\AutoMS\\AutoMS\\mspd.py:100: FutureWarning: Unlike other reduction functions (e.g. `skew`, `kurtosis`), the default behavior of `mode` typically preserves the axis it acts along. In SciPy 1.11.0, this behavior will change: the default value of `keepdims` will become False, the `axis` over which the statistic is taken will be eliminated, and the value None will no longer be accepted. Set `keepdims` to True or False to avoid this warning.\n",
      "  col = int(mode(ridge[1, inds])[0][0])\n",
      "100%|█████████████████████████████████████████████████████████████████████████| 25257/25257 [00:01<00:00, 16738.01it/s]\n"
     ]
    },
    {
     "name": "stdout",
     "output_type": "stream",
     "text": [
      "790/790 [==============================] - 3s 1ms/step\n"
     ]
    },
    {
     "ename": "ValueError",
     "evalue": "not enough values to unpack (expected 6, got 5)",
     "output_type": "error",
     "traceback": [
      "\u001b[1;31m---------------------------------------------------------------------------\u001b[0m",
      "\u001b[1;31mValueError\u001b[0m                                Traceback (most recent call last)",
      "\u001b[1;32m~\\AppData\\Local\\Temp\\ipykernel_22492\\3707451626.py\u001b[0m in \u001b[0;36m<cell line: 5>\u001b[1;34m()\u001b[0m\n\u001b[0;32m      3\u001b[0m \u001b[1;33m\u001b[0m\u001b[0m\n\u001b[0;32m      4\u001b[0m \u001b[0mfile\u001b[0m \u001b[1;33m=\u001b[0m \u001b[1;34m'data/600mix_pos.mzML'\u001b[0m\u001b[1;33m\u001b[0m\u001b[1;33m\u001b[0m\u001b[0m\n\u001b[1;32m----> 5\u001b[1;33m \u001b[0mpeaks\u001b[0m \u001b[1;33m=\u001b[0m \u001b[0mAutoMS\u001b[0m\u001b[1;33m(\u001b[0m\u001b[0mfile\u001b[0m\u001b[1;33m,\u001b[0m \u001b[0mmin_intensity\u001b[0m \u001b[1;33m=\u001b[0m \u001b[1;36m500\u001b[0m\u001b[1;33m)\u001b[0m\u001b[1;33m\u001b[0m\u001b[1;33m\u001b[0m\u001b[0m\n\u001b[0m\u001b[0;32m      6\u001b[0m \u001b[1;33m\u001b[0m\u001b[0m\n\u001b[0;32m      7\u001b[0m \u001b[1;31m# XCMS\u001b[0m\u001b[1;33m\u001b[0m\u001b[1;33m\u001b[0m\u001b[1;33m\u001b[0m\u001b[0m\n",
      "\u001b[1;32mD:\\AutoMS\\AutoMS\\automs.py\u001b[0m in \u001b[0;36mAutoMS\u001b[1;34m(file, min_intensity, mass_inv, rt_inv, length, params, min_width)\u001b[0m\n\u001b[0;32m     15\u001b[0m \u001b[1;33m\u001b[0m\u001b[0m\n\u001b[0;32m     16\u001b[0m     \u001b[0mpeaks\u001b[0m\u001b[1;33m,\u001b[0m \u001b[0mpics\u001b[0m \u001b[1;33m=\u001b[0m \u001b[0mhpic\u001b[0m\u001b[1;33m.\u001b[0m\u001b[0mhpic\u001b[0m\u001b[1;33m(\u001b[0m\u001b[0mfile\u001b[0m\u001b[1;33m,\u001b[0m \u001b[0mmin_intensity\u001b[0m\u001b[1;33m=\u001b[0m\u001b[0mmin_intensity\u001b[0m\u001b[1;33m,\u001b[0m \u001b[0mmin_snr\u001b[0m\u001b[1;33m=\u001b[0m\u001b[1;36m1\u001b[0m\u001b[1;33m,\u001b[0m \u001b[0mmass_inv\u001b[0m\u001b[1;33m=\u001b[0m\u001b[1;36m1\u001b[0m\u001b[1;33m,\u001b[0m \u001b[0mrt_inv\u001b[0m\u001b[1;33m=\u001b[0m\u001b[1;36m30\u001b[0m\u001b[1;33m)\u001b[0m\u001b[1;33m\u001b[0m\u001b[1;33m\u001b[0m\u001b[0m\n\u001b[1;32m---> 17\u001b[1;33m     scores, mspd_snrs, cnn_output, _, _, _ = peakeval.evaluate_peaks(peaks, pics, length=length, \n\u001b[0m\u001b[0;32m     18\u001b[0m                                                                      \u001b[0mparams\u001b[0m\u001b[1;33m=\u001b[0m\u001b[0mparams\u001b[0m\u001b[1;33m,\u001b[0m \u001b[0mmin_width\u001b[0m \u001b[1;33m=\u001b[0m \u001b[0mmin_width\u001b[0m\u001b[1;33m,\u001b[0m\u001b[1;33m\u001b[0m\u001b[1;33m\u001b[0m\u001b[0m\n\u001b[0;32m     19\u001b[0m                                                                      cal_snr=False)\n",
      "\u001b[1;31mValueError\u001b[0m: not enough values to unpack (expected 6, got 5)"
     ]
    }
   ],
   "source": [
    "# AutoMS\n",
    "from AutoMS.automs import AutoMS\n",
    "\n",
    "file = 'data/600mix_pos.mzML'\n",
    "peaks = AutoMS(file, min_intensity = 500)\n",
    "\n",
    "# XCMS\n",
    "xcms = pd.read_csv('data/XCMS_output.csv')\n",
    "\n",
    "# MS-DIAL\n",
    "ms_dial = pd.read_csv('data/MS_DIAL_output.csv')\n",
    "\n",
    "# Peakonly\n",
    "peakonly = pd.read_csv('data/peakonly_output.csv')"
   ]
  },
  {
   "cell_type": "code",
   "execution_count": null,
   "id": "f4eda11b",
   "metadata": {},
   "outputs": [],
   "source": []
  }
 ],
 "metadata": {
  "kernelspec": {
   "display_name": "Python 3 (ipykernel)",
   "language": "python",
   "name": "python3"
  },
  "language_info": {
   "codemirror_mode": {
    "name": "ipython",
    "version": 3
   },
   "file_extension": ".py",
   "mimetype": "text/x-python",
   "name": "python",
   "nbconvert_exporter": "python",
   "pygments_lexer": "ipython3",
   "version": "3.8.13"
  }
 },
 "nbformat": 4,
 "nbformat_minor": 5
}
